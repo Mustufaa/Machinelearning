{
 "cells": [
  {
   "cell_type": "code",
   "execution_count": 27,
   "metadata": {},
   "outputs": [],
   "source": [
    "import random"
   ]
  },
  {
   "cell_type": "code",
   "execution_count": 28,
   "metadata": {},
   "outputs": [],
   "source": [
    "n_machine = 3\n",
    "n_trials = 10\n"
   ]
  },
  {
   "cell_type": "code",
   "execution_count": 29,
   "metadata": {},
   "outputs": [],
   "source": [
    "true_rewards= [0.2, 0.5,0.8]"
   ]
  },
  {
   "cell_type": "code",
   "execution_count": 30,
   "metadata": {},
   "outputs": [],
   "source": [
    "success =  [0] * n_machine\n",
    "failure = [0] * n_machine"
   ]
  },
  {
   "cell_type": "code",
   "execution_count": 31,
   "metadata": {},
   "outputs": [],
   "source": [
    "for i in range(n_trials):\n",
    "    sample_values = [random.betavariate(success[i]+1, failure[i]+1) for i in range(n_machine)]\n",
    "\n",
    "    arm = sample_values.index(max(sample_values)) # choose the best guess\n",
    "    \n",
    "    reward=  1 if random.random() < true_rewards[arm] else 0\n",
    "\n",
    "    if reward == 1:\n",
    "        success[arm] += 1\n",
    "    else:\n",
    "        failure[arm] += 1"
   ]
  },
  {
   "cell_type": "code",
   "execution_count": null,
   "metadata": {},
   "outputs": [
    {
     "name": "stdout",
     "output_type": "stream",
     "text": [
      "Machine 1: Played 2 times, Estimated win rate: 0.50\n",
      "Machine 2: Played 5 times, Estimated win rate: 0.60\n",
      "Machine 3: Played 3 times, Estimated win rate: 1.00\n",
      "Best Machine to play: 2\n"
     ]
    }
   ],
   "source": [
    "for  i in range(n_machine):\n",
    "    total = success[i] + failure[i]\n",
    "    print(f'Machine {i+1}: Played {total} times, Estimated win rate: {success[i]/total:.2f}')\n",
    "\n",
    "print('Best Machine to play:', success.index(max(success)) + 1)\n"
   ]
  },
  {
   "cell_type": "code",
   "execution_count": null,
   "metadata": {},
   "outputs": [],
   "source": []
  }
 ],
 "metadata": {
  "kernelspec": {
   "display_name": "base",
   "language": "python",
   "name": "python3"
  },
  "language_info": {
   "codemirror_mode": {
    "name": "ipython",
    "version": 3
   },
   "file_extension": ".py",
   "mimetype": "text/x-python",
   "name": "python",
   "nbconvert_exporter": "python",
   "pygments_lexer": "ipython3",
   "version": "3.12.3"
  }
 },
 "nbformat": 4,
 "nbformat_minor": 2
}
