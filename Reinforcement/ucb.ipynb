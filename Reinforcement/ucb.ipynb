{
 "cells": [
  {
   "cell_type": "code",
   "execution_count": 5,
   "metadata": {},
   "outputs": [],
   "source": [
    "import math\n",
    "import random"
   ]
  },
  {
   "cell_type": "code",
   "execution_count": 6,
   "metadata": {},
   "outputs": [],
   "source": [
    "n_machines = 3\n",
    "n_trails = 10\n"
   ]
  },
  {
   "cell_type": "code",
   "execution_count": 7,
   "metadata": {},
   "outputs": [],
   "source": [
    "true_rewards = [0.2, 0.5, 0.8] # True rewards probility of each machine\n"
   ]
  },
  {
   "cell_type": "markdown",
   "metadata": {},
   "source": [
    "- count[i] stores how many times machines i  has been played\n",
    "- reward[i] stores how many total reward were received from machines i\n",
    "- initially, all values are 0 because we haven't played yet."
   ]
  },
  {
   "cell_type": "code",
   "execution_count": 8,
   "metadata": {},
   "outputs": [],
   "source": [
    "count = [0] * n_machines # Count of times each machine has been selected\n",
    "rewards = [0] * n_machines # Total rewards from each machine"
   ]
  },
  {
   "cell_type": "code",
   "execution_count": 12,
   "metadata": {},
   "outputs": [],
   "source": [
    "# this loop runs 10 times (since n_trails = 10)\n",
    "# each time, agent chooses a slot machine to play\n",
    "\n",
    "for t in range(1, n_trails+1):\n",
    "    # if any machine has not been played yet(count[i] == 0),we choose it first\n",
    "    # this ensures each machine is played at least once before applying the ucb formula, this is called exploration\n",
    "    if 0 in count:\n",
    "        arm = count.index(0)\n",
    "    else:\n",
    "        # calculate the upper confidence bound for each machine\n",
    "        # average reward + exploration bonus\n",
    "        ucb_values = [\n",
    "            rewards[i]/count[i]+math.sqrt(2*math.log(t)/count[i])\n",
    "            for i in range(n_machines)\n",
    "        ]\n",
    "        arm = ucb_values.index(max(ucb_values)) #Pick the machine with the highest ucb value\n",
    "\n",
    "reward = 1 if random.random() < true_rewards[arm] else 0\n",
    "count[arm] += 1\n",
    "rewards[arm] += reward"
   ]
  },
  {
   "cell_type": "code",
   "execution_count": 15,
   "metadata": {},
   "outputs": [
    {
     "name": "stdout",
     "output_type": "stream",
     "text": [
      "Machine 1: Played 1 times, Estimated win rate: 1.00\n",
      "Machine 2: Played 1 times, Estimated win rate: 1.00\n",
      "Machine 3: Played 1 times, Estimated win rate: 1.00\n",
      "Best machine to play: 1\n"
     ]
    }
   ],
   "source": [
    "#show results\n",
    "for i in range(n_machines):\n",
    "    print(f\"Machine {i+1}: Played {count[i]} times, Estimated win rate: {rewards[i]/count[i]:.2f}\")\n",
    "\n",
    "print(\"Best machine to play:\", rewards.index(max(rewards))+1)"
   ]
  },
  {
   "cell_type": "code",
   "execution_count": null,
   "metadata": {},
   "outputs": [],
   "source": []
  }
 ],
 "metadata": {
  "kernelspec": {
   "display_name": "base",
   "language": "python",
   "name": "python3"
  },
  "language_info": {
   "codemirror_mode": {
    "name": "ipython",
    "version": 3
   },
   "file_extension": ".py",
   "mimetype": "text/x-python",
   "name": "python",
   "nbconvert_exporter": "python",
   "pygments_lexer": "ipython3",
   "version": "3.12.3"
  }
 },
 "nbformat": 4,
 "nbformat_minor": 2
}
